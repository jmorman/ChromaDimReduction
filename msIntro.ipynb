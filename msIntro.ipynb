{
 "cells": [
  {
   "cell_type": "code",
   "execution_count": 1,
   "metadata": {
    "collapsed": false
   },
   "outputs": [],
   "source": [
    "#As of 12/29/15, http://labrosa.ee.columbia.edu/millionsong/ was down, \n",
    "#so I used a WayBack Machine capture from 12/11/15:\n",
    "#https://web.archive.org/web/20151211052506/http://labrosa.ee.columbia.edu/millionsong/\n",
    "\n",
    "#https://github.com/tbertinmahieux/MSongsDB/blob/master/Tasks_Demos/Preview7digital/get_preview_url.py\n",
    "#Have to get 7digital API key to get previews, which requires making a 7digital account\n",
    "#import get_preview_url\n",
    "\n",
    "#\"Mel-frequency cepstrum coefficients\"?\n",
    "#\"HDF5 is a format developped [sic] by NASA to handle 1) large 2) heterogeneous 3) hierarchical datasets\n",
    "\n",
    "#Install pytables \"pip install tables\" (after installing hdf5)\n",
    "\n",
    "import hdf5_getters"
   ]
  },
  {
   "cell_type": "code",
   "execution_count": 2,
   "metadata": {
    "collapsed": false
   },
   "outputs": [
    {
     "name": "stdout",
     "output_type": "stream",
     "text": [
      "Never Gonna Give You Up\n",
      "[ 0.       0.13914  0.26993  0.53664  0.67011  0.80417  0.92617  1.06535\n",
      "  1.1927   1.33229]\n",
      "[ 0.     1.     0.702  1.     0.749  0.704  0.688  0.839  0.707  0.761]\n",
      "[-60.    -10.052 -11.863  -9.857 -11.658 -11.72  -13.881 -11.942 -12.218\n",
      " -11.994]\n",
      "[[   0.     171.13     9.469  -28.48    57.491  -50.067   14.833    5.359\n",
      "   -27.228    0.973  -10.64    -7.228]\n",
      " [  41.556   68.765  -33.805   51.328   34.177   -2.394  -40.241   -6.224\n",
      "     3.999   42.237   60.54    10.733]\n",
      " [  39.384   40.009  -36.588   91.9     17.773  -44.76   -38.023   -8.227\n",
      "    25.288   13.594   -6.421    8.247]\n",
      " [  41.983   59.131  -37.689   46.868   31.558    2.691  -31.44    -3.222\n",
      "    19.324   24.799   56.492  -16.528]\n",
      " [  41.974   51.25   -29.281   36.169   16.997  -34.621  -39.622   -7.14\n",
      "    25.776   20.39    18.879   -7.184]\n",
      " [  41.23    48.171  -24.806   46.011   21.994  -70.289  -46.634   -9.357\n",
      "    17.166   13.91     8.823   -2.796]\n",
      " [  40.151   55.983  -22.262   30.936   14.034  -31.713  -30.586   -6.883\n",
      "    10.489   17.061   23.621   -8.908]\n",
      " [  41.956   57.183  -40.282   28.777   15.194  -55.656  -40.667   -3.648\n",
      "    17.474   17.503   12.527   -3.871]\n",
      " [  41.221   54.309  -41.56    32.731   10.659  -14.117  -28.009   -6.987\n",
      "    15.514   15.096   22.915   -5.487]\n",
      " [  41.107   45.262  -39.563   38.352    3.787  -76.585  -53.073   -9.674\n",
      "    15.179   10.992   -7.674   -7.02 ]]\n",
      "[[ 0.827  1.     0.513  0.758  0.631  0.646  0.637  0.789  0.774  0.822\n",
      "   0.69   0.673]\n",
      " [ 0.806  0.704  0.584  0.432  0.405  0.52   0.69   0.793  1.     0.839\n",
      "   0.832  0.621]\n",
      " [ 0.33   0.442  0.601  0.545  0.489  1.     0.636  0.324  0.4    0.587\n",
      "   0.465  0.24 ]\n",
      " [ 0.733  0.525  0.416  0.36   0.343  0.64   0.874  0.865  1.     0.977\n",
      "   0.917  0.769]\n",
      " [ 0.445  0.3    0.256  0.267  0.257  0.664  0.476  0.841  1.     0.873\n",
      "   0.709  0.771]\n",
      " [ 0.64   0.41   0.306  0.213  0.243  0.393  0.376  1.     0.896  0.558\n",
      "   0.753  0.783]\n",
      " [ 0.386  0.539  0.482  0.577  0.392  1.     0.964  0.602  0.596  0.763\n",
      "   0.578  0.304]\n",
      " [ 0.349  0.359  0.424  0.361  0.484  0.871  0.788  0.802  0.881  1.     0.679\n",
      "   0.412]\n",
      " [ 0.391  0.603  0.548  0.969  0.97   1.     0.974  0.794  0.681  0.595\n",
      "   0.576  0.617]\n",
      " [ 0.157  0.785  1.     0.589  0.531  0.771  0.587  0.711  0.443  0.435\n",
      "   0.255  0.232]]\n"
     ]
    }
   ],
   "source": [
    "h5 = hdf5_getters.open_h5_file_read('MillionSongSubset/data/A/X/L/TRAXLZU12903D05F94.h5')\n",
    "print hdf5_getters.get_title(h5)\n",
    "print hdf5_getters.get_segments_start(h5)[:10]\n",
    "print hdf5_getters.get_segments_confidence(h5)[:10]\n",
    "print hdf5_getters.get_segments_loudness_max(h5)[:10]\n",
    "print hdf5_getters.get_segments_timbre(h5)[:10]\n",
    "print hdf5_getters.get_segments_pitches(h5)[:10]\n",
    "h5.close()"
   ]
  },
  {
   "cell_type": "code",
   "execution_count": 3,
   "metadata": {
    "collapsed": false
   },
   "outputs": [
    {
     "name": "stdout",
     "output_type": "stream",
     "text": [
      "analysis_sample_rate: 22050\n",
      "artist_7digitalid: 366115\n",
      "artist_familiarity: 0.420966666741\n",
      "artist_hotttnesss: 0.310661895685\n",
      "artist_id: ARULZCI1241B9C8611\n",
      "artist_latitude: nan\n",
      "artist_location: \n",
      "artist_longitude: nan\n",
      "artist_mbid: \n",
      "artist_mbtags: shape = (0,)\n",
      "artist_mbtags_count: shape = (0,)\n",
      "artist_name: Luna Orbit Project\n",
      "artist_playmeid: -1\n",
      "artist_terms: shape = (10,)\n",
      "artist_terms_freq: shape = (10,)\n",
      "artist_terms_weight: shape = (10,)\n",
      "audio_md5: f5c4964e61d0bd7512a6896bbf2aa671\n",
      "bars_confidence: shape = (191,)\n",
      "bars_start: shape = (191,)\n",
      "beats_confidence: shape = (769,)\n",
      "beats_start: shape = (769,)\n",
      "danceability: 0.0\n",
      "duration: 335.51628\n",
      "end_of_fade_in: 0.0\n",
      "energy: 0.0\n",
      "key: 5\n",
      "key_confidence: 0.486\n",
      "loudness: -7.427\n",
      "mode: 0\n",
      "mode_confidence: 0.397\n",
      "release: Northern Blue\n",
      "release_7digitalid: 772527\n",
      "sections_confidence: shape = (14,)\n",
      "sections_start: shape = (14,)\n",
      "segments_confidence: shape = (1509,)\n",
      "segments_loudness_max: shape = (1509,)\n",
      "segments_loudness_max_time: shape = (1509,)\n",
      "segments_loudness_start: shape = (1509,)\n",
      "segments_pitches: shape = (1509, 12)\n",
      "segments_start: shape = (1509,)\n",
      "segments_timbre: shape = (1509, 12)\n",
      "similar_artists: shape = (100,)\n",
      "song_hotttnesss: nan\n",
      "song_id: SOSWKAV12AB018FC91\n",
      "start_of_fade_out: 329.062\n",
      "tatums_confidence: shape = (1538,)\n",
      "tatums_start: shape = (1538,)\n",
      "tempo: 139.993\n",
      "time_signature: 4\n",
      "time_signature_confidence: 0.0\n",
      "title: Midnight Star\n",
      "track_7digitalid: 8551031\n",
      "track_id: TRABCAJ12903CDFCC2\n",
      "year: 0\n",
      "DONE, showed song 0 / 0 in file: MillionSongSubset/data/A/B/C/TRABCAJ12903CDFCC2.h5\n"
     ]
    }
   ],
   "source": [
    "#Can use display_song.py on command line for summary of all data in a song's hdf5 file\n",
    "!python display_song.py MillionSongSubset/data/A/B/C/TRABCAJ12903CDFCC2.h5 "
   ]
  },
  {
   "cell_type": "code",
   "execution_count": null,
   "metadata": {
    "collapsed": true
   },
   "outputs": [],
   "source": []
  }
 ],
 "metadata": {
  "kernelspec": {
   "display_name": "Python 2",
   "language": "python",
   "name": "python2"
  },
  "language_info": {
   "codemirror_mode": {
    "name": "ipython",
    "version": 2
   },
   "file_extension": ".py",
   "mimetype": "text/x-python",
   "name": "python",
   "nbconvert_exporter": "python",
   "pygments_lexer": "ipython2",
   "version": "2.7.6"
  }
 },
 "nbformat": 4,
 "nbformat_minor": 0
}

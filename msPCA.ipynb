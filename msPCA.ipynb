{
 "cells": [
  {
   "cell_type": "code",
   "execution_count": 56,
   "metadata": {
    "collapsed": false
   },
   "outputs": [],
   "source": [
    "%matplotlib inline\n",
    "#http://blog.prabeeshk.com/blog/2014/10/31/install-apache-spark-on-ubuntu-14-dot-04/\n",
    "import findspark\n",
    "#findspark.init('/usr/local/src/spark/spark-1.6.0/', edit_profile=True)\n",
    "findspark.init()\n",
    "\n",
    "import pyspark\n",
    "sc = pyspark.SparkContext()"
   ]
  },
  {
   "cell_type": "code",
   "execution_count": 7,
   "metadata": {
    "collapsed": true
   },
   "outputs": [],
   "source": [
    "from numpy.linalg import eigh\n",
    "import numpy as np"
   ]
  },
  {
   "cell_type": "code",
   "execution_count": 8,
   "metadata": {
    "collapsed": false
   },
   "outputs": [],
   "source": [
    "lines = sc.textFile('samplechromasmedium')"
   ]
  },
  {
   "cell_type": "code",
   "execution_count": 9,
   "metadata": {
    "collapsed": false
   },
   "outputs": [
    {
     "name": "stdout",
     "output_type": "stream",
     "text": [
      "9484\n",
      "1205\n"
     ]
    }
   ],
   "source": [
    "#9484 songs, 3600 features each\n",
    "#Songs were transposed in msEDA\n",
    "print lines.count()\n",
    "print len(lines.first().split(','))"
   ]
  },
  {
   "cell_type": "code",
   "execution_count": 10,
   "metadata": {
    "collapsed": false
   },
   "outputs": [
    {
     "name": "stdout",
     "output_type": "stream",
     "text": [
      "1200\n"
     ]
    }
   ],
   "source": [
    "def parse(line):\n",
    "    vals = line.split(',')\n",
    "    artist = vals[0]\n",
    "    title = vals[1]\n",
    "    track_id = vals[2]\n",
    "    key = vals[3]\n",
    "    mode = vals[4]\n",
    "    \n",
    "    chroma_feats = np.array([float(x) for x in vals[5:]])\n",
    "    \n",
    "    keyletter = ['C', 'C#/Db', 'D', 'D#/Eb', 'E', 'F', 'F#/Gb', 'G', 'G#/Ab', 'A', 'A#/Bb', 'B'][int(key)]\n",
    "    \n",
    "    if(mode == '0'):\n",
    "        flavor = 'Minor'\n",
    "    else:\n",
    "        flavor = 'Major'\n",
    "        \n",
    "    return (artist + ' : ' + title + ', ' + keyletter + ' ' + flavor, chroma_feats)\n",
    "\n",
    "fullRDD = lines.map(parse)\n",
    "RDDmicro = fullRDD.sample(False, 0.0005, 42)\n",
    "RDDmini = fullRDD.sample(False, 0.001, 42)\n",
    "RDDsmall = fullRDD.sample(False, 0.01, 42)\n",
    "RDDmedium = fullRDD.sample(False, 0.05, 42)\n",
    "RDDlarge = fullRDD.sample(False, 0.1, 42)\n",
    "RDDmicro.cache()\n",
    "RDDmini.cache()\n",
    "RDDsmall.cache()\n",
    "RDDmedium.cache()\n",
    "RDDlarge.cache()\n",
    "fullRDD.cache()\n",
    "print len(fullRDD.values().first())"
   ]
  },
  {
   "cell_type": "code",
   "execution_count": 11,
   "metadata": {
    "collapsed": false
   },
   "outputs": [
    {
     "name": "stdout",
     "output_type": "stream",
     "text": [
      "5\n",
      "10\n",
      "92\n",
      "425\n",
      "929\n"
     ]
    }
   ],
   "source": [
    "print RDDmicro.count()\n",
    "print RDDmini.count()\n",
    "print RDDsmall.count()\n",
    "print RDDmedium.count()\n",
    "print RDDlarge.count() "
   ]
  },
  {
   "cell_type": "code",
   "execution_count": 12,
   "metadata": {
    "collapsed": false
   },
   "outputs": [],
   "source": [
    "def get_covariance(data):\n",
    "    \n",
    "    n = data.count()\n",
    "    d = len(data.first())\n",
    "    \n",
    "    means = [(data\n",
    "              .map(lambda dp : dp[i])\n",
    "              .sum()/n) for i in range(d)]\n",
    "    \n",
    "    dataZeroMean = data.map(lambda data_point: data_point-means)\n",
    "\n",
    "    covariance = (dataZeroMean\n",
    "                  .map(lambda dp: np.outer(dp, dp))\n",
    "                  .sum()/n)\n",
    " \n",
    "    return covariance"
   ]
  },
  {
   "cell_type": "code",
   "execution_count": 13,
   "metadata": {
    "collapsed": true
   },
   "outputs": [],
   "source": [
    "def pca(data, k=2):\n",
    "    covariance = get_covariance(data.values())\n",
    "\n",
    "    eigVals, eigVecs = eigh(covariance)\n",
    "\n",
    "    inds = np.argsort(eigVals)\n",
    "\n",
    "    #Top k principal components\n",
    "    topKComponents = np.array([vec for (val, vec) in sorted(zip(eigVals, eigVecs.T), reverse=True)][:k])\n",
    "\n",
    "    #scores returns (key, an array of length k) for each data point, where the array gives the data point's\n",
    "    #scores for each of the top k principal components\n",
    "    scores = data.map(lambda (dpk, dpv): (dpk, np.array([np.dot(dpv, pc) for pc in topKComponents])))\n",
    "\n",
    "    # Return the `k` principal components, `k` scores, and all eigenvalues\n",
    "    return (topKComponents, scores, sorted(eigVals, reverse=True))"
   ]
  },
  {
   "cell_type": "code",
   "execution_count": 14,
   "metadata": {
    "collapsed": true
   },
   "outputs": [],
   "source": [
    "currentRDD = fullRDD"
   ]
  },
  {
   "cell_type": "code",
   "execution_count": 15,
   "metadata": {
    "collapsed": false
   },
   "outputs": [
    {
     "name": "stdout",
     "output_type": "stream",
     "text": [
      "299.89528513\n"
     ]
    }
   ],
   "source": [
    "#PCA \n",
    "#n = 5, d = 120 : 10sec\n",
    "#n = 10, d = 120 : 8sec, d = 1200 : 90sec\n",
    "#n = 92, d = 120 : 8sec, d = 1200 : 66sec\n",
    "#n = 425, d = 120 : 5.5sec, d = 1200 : 80sec\n",
    "#n = 929, d = 120 : 5.7sec\n",
    "#n = 9484, d = 120 : 7.7sec, d = 240 : 20.3sec, d = 600 : 59sec, d = 1200 : 290sec\n",
    "import time\n",
    "start = time.time()\n",
    "#top_components, song_scores, comp_eigvals = pca(fullRDD, k=3)\n",
    "top_components, song_scores, comp_eigvals = pca(currentRDD, k=100)\n",
    "print time.time() - start"
   ]
  },
  {
   "cell_type": "code",
   "execution_count": 16,
   "metadata": {
    "collapsed": false
   },
   "outputs": [
    {
     "name": "stdout",
     "output_type": "stream",
     "text": [
      "[-0.00172267  0.0072335   0.00956664  0.00744991  0.0065042   0.00757983\n",
      "  0.00896926  0.00309443  0.00697892  0.0060835   0.00628876  0.00608932\n",
      "  0.00439625  0.03516956  0.03175014  0.03495655  0.02914286  0.0323911\n",
      "  0.03592658  0.01205209  0.03338558  0.02948613  0.03361649  0.03315737\n",
      "  0.0039036   0.03735666  0.03110498  0.03640892  0.0274959   0.03314715\n",
      "  0.03711428  0.01152916  0.03702936  0.03091061  0.03616438  0.03397963\n",
      "  0.00224429  0.03787188  0.03173345  0.03618751  0.02772518  0.03287497\n",
      "  0.03859055  0.00979594  0.03560034  0.0306755   0.03609993  0.03331661\n",
      "  0.00274784  0.03785144  0.02958561  0.03728135  0.02992485  0.0344055\n",
      "  0.03908927  0.0105571   0.03649636  0.03128675  0.03578767  0.03351973\n",
      "  0.00481042  0.03987729  0.03207798  0.03889383  0.03122702  0.03384888\n",
      "  0.0404051   0.01197126  0.03777809  0.03205005  0.03597821  0.03395245\n",
      "  0.00373489  0.0391766   0.03151107  0.03862388  0.02906085  0.03413659\n",
      "  0.04104856  0.01048125  0.03655863  0.03165464  0.03625707  0.03244674\n",
      "  0.00558424  0.03871466  0.03136193  0.03956213  0.02849434  0.03205028\n",
      "  0.03947571  0.01032771  0.03681341  0.03186815  0.03532911  0.03368398\n",
      "  0.00587426  0.03845406  0.02945861  0.03775592]\n",
      "(u'Daara J : Le Precipice, C Major', array([  1.09606451e+01,  -1.98263730e+00,   3.02345215e+00,\n",
      "        -1.13134093e+00,   3.31167564e+00,   1.35557961e+00,\n",
      "        -6.84385889e-01,  -2.28187114e+00,   8.82998596e-01,\n",
      "         1.38880315e+00,  -1.29183379e+00,   5.60383829e-01,\n",
      "         1.04925411e+00,  -1.20330701e-01,   2.42933694e-02,\n",
      "         1.25962019e+00,  -5.63202517e-01,   4.97505021e-01,\n",
      "         4.42084992e-01,   6.31708052e-01,  -7.80737538e-01,\n",
      "        -5.60784404e-01,   1.22179498e-01,  -6.90566676e-01,\n",
      "        -4.32669450e-01,  -6.09313438e-01,  -2.02782385e-01,\n",
      "         2.31110903e-01,  -2.57924182e-01,  -4.15171889e-01,\n",
      "        -6.46178676e-01,  -1.23097997e+00,  -1.58301884e+00,\n",
      "         1.23565703e+00,  -6.66551822e-01,  -1.01552835e-01,\n",
      "        -2.62373663e-01,  -6.09003387e-01,   4.61116902e-01,\n",
      "        -8.13940360e-02,  -2.55159627e-01,   2.41876578e-01,\n",
      "         1.79443819e-02,  -2.09118492e-01,  -1.15319247e+00,\n",
      "        -3.97582977e-01,  -3.31595327e-03,   1.17815222e+00,\n",
      "         1.18497495e+00,   9.32329119e-01,  -6.26199979e-02,\n",
      "        -9.46750555e-01,  -1.05895782e-01,   1.38107091e-01,\n",
      "         4.37636142e-02,  -4.20933466e-01,   5.72130144e-01,\n",
      "         3.28106627e-01,  -1.36893670e-01,  -2.26125876e-01,\n",
      "         7.77026677e-01,  -6.14913649e-01,   4.60775807e-01,\n",
      "        -8.24655709e-01,  -1.70410726e-01,   3.57870880e-01,\n",
      "         1.15263468e-01,  -5.42403194e-01,   1.05023786e+00,\n",
      "         2.62922997e-01,  -8.88020636e-01,   1.25750585e-01,\n",
      "        -1.11594290e+00,  -4.17456022e-01,  -1.83071304e-01,\n",
      "         3.47440696e-01,   1.91200103e-01,  -1.50384588e-01,\n",
      "         4.23263701e-01,  -7.12927219e-01,  -1.00805911e-01,\n",
      "        -6.03907516e-01,  -7.72621351e-02,  -7.76287488e-01,\n",
      "        -1.74113531e-02,  -1.09615237e-01,   6.00710952e-01,\n",
      "        -5.14393873e-01,   1.95147986e-01,  -1.55099721e-01,\n",
      "         1.09879003e-01,  -5.38225601e-01,  -4.64039494e-02,\n",
      "         3.04594778e-01,  -5.35552698e-01,   1.27588521e+00,\n",
      "         1.25578191e-01,  -1.73079639e-02,   3.64864711e-02,\n",
      "         4.63199161e-01]))\n",
      "[8.2995819929661838, 3.1134072607897747, 2.5015727859658816, 2.2094032174598719, 1.8062009544862423, 1.3947687805090996, 1.2459828271888951, 1.2049242732638001, 1.1437377996401519, 0.83140842107679336, 0.79064122317517016, 0.63232356987504079, 0.57770778121439526, 0.5092673865548103, 0.49840297208094986, 0.460768683985046, 0.43223626798022718, 0.39706511266964639, 0.39137508828062628, 0.37762163823254213]\n"
     ]
    }
   ],
   "source": [
    "print top_components[0][:100]\n",
    "print song_scores.first()\n",
    "print comp_eigvals[:20]"
   ]
  },
  {
   "cell_type": "code",
   "execution_count": 17,
   "metadata": {
    "collapsed": false
   },
   "outputs": [
    {
     "name": "stdout",
     "output_type": "stream",
     "text": [
      "0.0\n",
      "0.161929736392\n",
      "0.214498361657\n",
      "0.241667110253\n",
      "0.260262818668\n",
      "0.275131474949\n",
      "0.288672118621\n",
      "0.30111280177\n",
      "0.312773449813\n",
      "0.323900879826\n",
      "0.334581509781\n",
      "0.344837678795\n",
      "0.354825809784\n",
      "0.364492364674\n",
      "0.373870275775\n",
      "0.382997822597\n",
      "0.391890110137\n",
      "0.400556073766\n",
      "0.409040376024\n",
      "0.417364015157\n"
     ]
    }
   ],
   "source": [
    "#Amount (out of 1) of variance explained by first i principal components\n",
    "for i in range(0,100,5):\n",
    "    print sum(comp_eigvals[:i])/sum(comp_eigvals)"
   ]
  },
  {
   "cell_type": "code",
   "execution_count": 18,
   "metadata": {
    "collapsed": false
   },
   "outputs": [
    {
     "name": "stdout",
     "output_type": "stream",
     "text": [
      "[0.60805345845634773, 0.56801254744833474, 0.57134626739772409, 0.56040858287642292, 0.56202741459299821, 0.57732222690847745, 0.56338823281315886, 0.58778447912273324, 0.55970223534373742, 0.55233256010122356, 0.55652773091522623, 0.57040257275411144, 0.46000369042598088, 0.31163032475748614, 0.36068641923239148, 0.3105085407001259, 0.3412850063264446, 0.3424478068325596, 0.30606284268241196, 0.42855588359342078, 0.3002778363559675, 0.30807180514550742, 0.29971404470687513, 0.33821056516237874, 0.45202931252636042, 0.28949831294812373, 0.35288844369464312, 0.29576613243357225, 0.32735544074230227, 0.3293665120202437, 0.28783719949388453, 0.42500390130746502, 0.28768610291016389, 0.30224135385913037, 0.28451644875579812, 0.32178447912273339, 0.45415647406157733, 0.28946256853648206, 0.35451634331505666, 0.29484215520877211, 0.32445307886967506, 0.33032085617882678, 0.28812051876845185, 0.42868641923239154, 0.28270824546604761, 0.29603553353015516, 0.28196003795866703, 0.32066448755799237, 0.46101107127794194, 0.28825854070012624]\n",
      "21.911558234\n",
      "21.8940020193\n",
      "22.0374425984\n",
      "21.5243844806\n",
      "22.0456447089\n",
      "21.8856560376\n",
      "21.8661389419\n",
      "21.7386264591\n",
      "21.6467725247\n",
      "21.9407756991\n"
     ]
    }
   ],
   "source": [
    "means = [(currentRDD.values()\n",
    "            .map(lambda dp : dp[i])\n",
    "            .sum()/currentRDD.count()) for i in range(1200)]\n",
    "\n",
    "print means[:50]\n",
    "\n",
    "#Shouldn't this be strictly decreasing?\n",
    "songsample = currentRDD.take(5)\n",
    "for i in range(1,11):\n",
    "    error = 0\n",
    "    for song in songsample:\n",
    "        cdscores = song_scores.filter(lambda (k,v) : song[0] == k).first()\n",
    "        reconstruction = np.dot(top_components[:i].T, cdscores[1][:i]) + means\n",
    "        error = error + sum([x*x for x in (song[1] - reconstruction)])\n",
    "    print error/50"
   ]
  },
  {
   "cell_type": "code",
   "execution_count": 33,
   "metadata": {
    "collapsed": true
   },
   "outputs": [],
   "source": [
    "def divide_pitches(pitches):\n",
    "    divided_pitches = []\n",
    "    for i in range(len(pitches)/12):\n",
    "        divided_pitches.append(pitches[i*12 : (i+1)*12])\n",
    "    return divided_pitches"
   ]
  },
  {
   "cell_type": "code",
   "execution_count": 34,
   "metadata": {
    "collapsed": false
   },
   "outputs": [],
   "source": [
    "from chromaviz import display_chroma\n",
    "import stm\n",
    "stm.segments_to_midi('original', divide_pitches(currentRDD.filter(lambda (k,v) : 'You Appearing' in k).first()[1]))"
   ]
  },
  {
   "cell_type": "code",
   "execution_count": 43,
   "metadata": {
    "collapsed": false
   },
   "outputs": [
    {
     "name": "stdout",
     "output_type": "stream",
     "text": [
      "M83 : You Appearing, G Major\n",
      "[  4.51968346e+00  -2.30768823e+00   2.60232314e+00  -9.22585044e-02\n",
      "   2.39119775e+00  -1.27461370e+00  -1.13844358e+00  -1.81236939e+00\n",
      "   2.26664591e+00   3.38681629e+00  -2.14659007e+00  -2.97518464e-01\n",
      "   2.07337183e-01   1.86769565e-01  -7.47689213e-02  -6.71379746e-01\n",
      "  -1.27534022e-01   3.72703641e-01  -3.83519427e-01   2.07914099e-01\n",
      "  -4.17084605e-01   3.01132385e-01   2.20581579e-01  -1.83751907e-01\n",
      "   1.10719279e-01   3.15527714e-01  -2.96364324e-01   6.56663018e-02\n",
      "  -5.21290140e-02   1.17396087e-02   1.20864258e-01  -2.55393508e-01\n",
      "   4.20770407e-02   2.82290246e-01   6.94562303e-02   1.29082397e-01\n",
      "  -3.35878540e-01  -7.38986506e-01  -1.29953876e-01   1.20094700e-01\n",
      "  -2.64329298e-02  -7.17566413e-02  -3.60519089e-01  -5.31037486e-01\n",
      "   1.02351261e-01  -5.61432948e-01  -2.33648876e-01   1.34988363e-01\n",
      "  -3.81429964e-01   2.63779033e-01   4.64850108e-01   9.07899388e-02\n",
      "   6.44499257e-01  -8.06773448e-02  -1.63089636e-01   2.46116805e-01\n",
      "  -8.90039748e-02  -9.23647708e-02  -5.51688586e-02   3.08106502e-01\n",
      "   8.82291977e-02  -1.72923801e-03   5.66664381e-02   7.67689155e-02\n",
      "   2.57707381e-01   3.43276268e-01  -3.09109615e-01  -3.95407810e-02\n",
      "   8.96793153e-02   3.80627412e-01  -2.18440464e-01   2.79117341e-01\n",
      "   1.88540332e-01  -1.69036415e-01  -2.18822185e-02  -1.04768481e-01\n",
      "  -6.42363173e-02  -1.41984455e-02  -4.96101668e-01  -5.52416990e-02\n",
      "   4.62348552e-01  -4.33887990e-01   2.12307703e-01   9.53084756e-02\n",
      "  -3.99529565e-01  -1.51557058e-01   6.16374775e-01   2.45386146e-01\n",
      "   6.78646793e-02  -4.74694481e-02  -1.90832681e-01   2.88137355e-01\n",
      "   4.36785580e-01   2.08493034e-01   8.15740213e-02  -2.37584998e-02\n",
      "  -3.99443505e-01   4.33797398e-01   1.02065044e-01  -6.32288868e-02]\n",
      "[ 0.60805346  0.56801255  0.57134627  0.56040858  0.56202741  0.57732223\n",
      "  0.56338823  0.58778448  0.55970224  0.55233256  0.55652773  0.57040257]\n",
      "[ 0.70946789  0.61713778  0.57366179  0.54499626  0.58194779  0.61483909\n",
      "  0.62788024  0.6601097   0.57457456  0.54460111  0.54777356  0.62205314]\n",
      "[ 1.52560018  1.59748928  1.52161976  1.53812695  1.59186448  1.50255647\n",
      "  1.5489824   1.51875901  1.63406988  1.64755881  1.52428936  1.5348097 ]\n",
      "[ 1.52492541  1.55783817  1.54524875  1.56800696  1.62007951  1.53202618\n",
      "  1.54385371  1.54016482  1.62285251  1.67235945  1.59285577  1.56353292]\n",
      "[ 1.54060946  1.56171166  1.54477031  1.56893033  1.61384031  1.52847614\n",
      "  1.55492021  1.54052887  1.60918019  1.67601978  1.59404798  1.55631446]\n",
      "[ 1.54122009  1.56384411  1.54761717  1.5683837   1.61337109  1.52848674\n",
      "  1.55523312  1.54489983  1.6094001   1.67229211  1.58979029  1.55312162]\n",
      "[ 1.52876706  1.55896235  1.54810591  1.56904396  1.61433556  1.53218903\n",
      "  1.55581971  1.5441417   1.60790316  1.66991747  1.5845932   1.54382539]\n",
      "[ 1.54184009  1.56742757  1.55194021  1.56778703  1.61285517  1.53128157\n",
      "  1.55379913  1.53539852  1.60294382  1.67147942  1.58982066  1.55257164]\n",
      "[ 1.52468864  1.56090144  1.56000765  1.57699265  1.62943159  1.53721259\n",
      "  1.56135069  1.54781692  1.60225872  1.65980337  1.57397107  1.53146983]\n",
      "[ 1.51890206  1.55305416  1.54797734  1.56170591  1.62699841  1.54785788\n",
      "  1.56970564  1.55323969  1.60893415  1.6650633   1.577604    1.52717636]\n",
      "[ 1.  1.  1.  1.  1.  1.  1.  1.  1.  1.  1.  1.]\n"
     ]
    }
   ],
   "source": [
    "specimen = currentRDD.filter(lambda (k,v) : 'You Appearing' in k).first()\n",
    "print specimen[0]\n",
    "specimen_scores = song_scores.filter(lambda (k,v) : k == specimen[0]).first()\n",
    "print specimen_scores[1]\n",
    "reconstructions = []\n",
    "for i in range(0,50,5):\n",
    "    reconstruction = np.dot(top_components[:i].T, specimen_scores[1][:i]) + means\n",
    "    reconstructions.append(reconstruction)\n",
    "    print reconstruction[:12]\n",
    "    stm.segments_to_midi('reconstruction' + str(i), divide_pitches(reconstruction))\n",
    "print specimen[1][:12]"
   ]
  },
  {
   "cell_type": "code",
   "execution_count": 44,
   "metadata": {
    "collapsed": false
   },
   "outputs": [
    {
     "name": "stdout",
     "output_type": "stream",
     "text": [
      "Requested buffer size 32768, fragment size 8192\n",
      "ALSA pcm 'default' set buffer size 32768, period size 8192 bytes\n",
      "Playing ChromaMIDIs/reconstruction0.mid\n",
      "MIDI file: ChromaMIDIs/reconstruction0.mid\n",
      "Format: 1  Tracks: 1  Divisions: 960\n",
      "Sequence: Main Track\n",
      "No pre-resampling cache hit\n",
      "Playing time: ~3 seconds\n",
      "Notes cut: 0\n",
      "Notes lost totally: 0\n"
     ]
    },
    {
     "data": {
      "image/png": "[encoded data removed]",
      "text/plain": [
       "<matplotlib.figure.Figure at 0x7f71309dc310>"
      ]
     },
     "metadata": {},
     "output_type": "display_data"
    }
   ],
   "source": [
    "display_chroma(divide_pitches(reconstructions[0]), length=100)\n",
    "!timidity ChromaMIDIs/reconstruction0.mid"
   ]
  },
  {
   "cell_type": "code",
   "execution_count": 45,
   "metadata": {
    "collapsed": false
   },
   "outputs": [
    {
     "name": "stdout",
     "output_type": "stream",
     "text": [
      "Requested buffer size 32768, fragment size 8192\n",
      "ALSA pcm 'default' set buffer size 32768, period size 8192 bytes\n",
      "Playing ChromaMIDIs/reconstruction5.mid\n",
      "MIDI file: ChromaMIDIs/reconstruction5.mid\n",
      "Format: 1  Tracks: 1  Divisions: 960\n",
      "Sequence: Main Track\n",
      "No pre-resampling cache hit\n",
      "Playing time: ~3 seconds\n",
      "Notes cut: 0\n",
      "Notes lost totally: 0\n"
     ]
    },
    {
     "data": {
      "image/png": "[encoded data removed]",
      "text/plain": [
       "<matplotlib.figure.Figure at 0x7f7130a51c50>"
      ]
     },
     "metadata": {},
     "output_type": "display_data"
    }
   ],
   "source": [
    "display_chroma(divide_pitches(reconstructions[1]), length=100)\n",
    "!timidity ChromaMIDIs/reconstruction5.mid"
   ]
  },
  {
   "cell_type": "code",
   "execution_count": 46,
   "metadata": {
    "collapsed": false
   },
   "outputs": [
    {
     "name": "stdout",
     "output_type": "stream",
     "text": [
      "Requested buffer size 32768, fragment size 8192\n",
      "ALSA pcm 'default' set buffer size 32768, period size 8192 bytes\n",
      "Playing ChromaMIDIs/reconstruction10.mid\n",
      "MIDI file: ChromaMIDIs/reconstruction10.mid\n",
      "Format: 1  Tracks: 1  Divisions: 960\n",
      "Sequence: Main Track\n",
      "^CTerminated sig=0x02\n",
      "\n"
     ]
    },
    {
     "data": {
      "image/png": "[encoded data removed]",
      "text/plain": [
       "<matplotlib.figure.Figure at 0x7f7131067bd0>"
      ]
     },
     "metadata": {},
     "output_type": "display_data"
    }
   ],
   "source": [
    "display_chroma(divide_pitches(reconstructions[2]), length=100)\n",
    "!timidity ChromaMIDIs/reconstruction10.mid"
   ]
  },
  {
   "cell_type": "code",
   "execution_count": 47,
   "metadata": {
    "collapsed": false
   },
   "outputs": [
    {
     "name": "stdout",
     "output_type": "stream",
     "text": [
      "Requested buffer size 32768, fragment size 8192\n",
      "ALSA pcm 'default' set buffer size 32768, period size 8192 bytes\n",
      "Playing ChromaMIDIs/reconstruction15.mid\n",
      "MIDI file: ChromaMIDIs/reconstruction15.mid\n",
      "Format: 1  Tracks: 1  Divisions: 960\n",
      "Sequence: Main Track\n",
      "^CTerminated sig=0x02\n",
      "\n"
     ]
    },
    {
     "data": {
      "image/png": "[encoded data removed]",
      "text/plain": [
       "<matplotlib.figure.Figure at 0x7f7131005b90>"
      ]
     },
     "metadata": {},
     "output_type": "display_data"
    }
   ],
   "source": [
    "display_chroma(divide_pitches(reconstructions[3]), length=100)\n",
    "!timidity ChromaMIDIs/reconstruction15.mid"
   ]
  },
  {
   "cell_type": "code",
   "execution_count": 48,
   "metadata": {
    "collapsed": false
   },
   "outputs": [
    {
     "name": "stdout",
     "output_type": "stream",
     "text": [
      "Requested buffer size 32768, fragment size 8192\n",
      "ALSA pcm 'default' set buffer size 32768, period size 8192 bytes\n",
      "Playing ChromaMIDIs/reconstruction20.mid\n",
      "MIDI file: ChromaMIDIs/reconstruction20.mid\n",
      "Format: 1  Tracks: 1  Divisions: 960\n",
      "Sequence: Main Track\n",
      "^CTerminated sig=0x02\n",
      "\n"
     ]
    },
    {
     "data": {
      "image/png": "[encoded data removed]",
      "text/plain": [
       "<matplotlib.figure.Figure at 0x7f71309948d0>"
      ]
     },
     "metadata": {},
     "output_type": "display_data"
    }
   ],
   "source": [
    "display_chroma(divide_pitches(reconstructions[4]), length=100)\n",
    "!timidity ChromaMIDIs/reconstruction20.mid"
   ]
  },
  {
   "cell_type": "code",
   "execution_count": 49,
   "metadata": {
    "collapsed": false
   },
   "outputs": [
    {
     "name": "stdout",
     "output_type": "stream",
     "text": [
      "Requested buffer size 32768, fragment size 8192\n",
      "ALSA pcm 'default' set buffer size 32768, period size 8192 bytes\n",
      "Playing ChromaMIDIs/reconstruction25.mid\n",
      "MIDI file: ChromaMIDIs/reconstruction25.mid\n",
      "Format: 1  Tracks: 1  Divisions: 960\n",
      "Sequence: Main Track\n",
      "^CTerminated sig=0x02\n",
      "\n"
     ]
    },
    {
     "data": {
      "image/png": "[encoded data removed]",
      "text/plain": [
       "<matplotlib.figure.Figure at 0x7f7130a2bbd0>"
      ]
     },
     "metadata": {},
     "output_type": "display_data"
    }
   ],
   "source": [
    "display_chroma(divide_pitches(reconstructions[5]), length=100)\n",
    "!timidity ChromaMIDIs/reconstruction25.mid"
   ]
  },
  {
   "cell_type": "code",
   "execution_count": 51,
   "metadata": {
    "collapsed": false
   },
   "outputs": [
    {
     "name": "stdout",
     "output_type": "stream",
     "text": [
      "Requested buffer size 32768, fragment size 8192\n",
      "ALSA pcm 'default' set buffer size 32768, period size 8192 bytes\n",
      "Playing ChromaMIDIs/reconstruction30.mid\n",
      "MIDI file: ChromaMIDIs/reconstruction30.mid\n",
      "Format: 1  Tracks: 1  Divisions: 960\n",
      "Sequence: Main Track\n",
      "^CTerminated sig=0x02\n",
      "\n"
     ]
    },
    {
     "data": {
      "image/png": "[encoded data removed]",
      "text/plain": [
       "<matplotlib.figure.Figure at 0x7f7130a51710>"
      ]
     },
     "metadata": {},
     "output_type": "display_data"
    }
   ],
   "source": [
    "display_chroma(divide_pitches(reconstructions[6]), length=100)\n",
    "!timidity ChromaMIDIs/reconstruction30.mid"
   ]
  },
  {
   "cell_type": "code",
   "execution_count": 52,
   "metadata": {
    "collapsed": false
   },
   "outputs": [
    {
     "name": "stdout",
     "output_type": "stream",
     "text": [
      "Requested buffer size 32768, fragment size 8192\n",
      "ALSA pcm 'default' set buffer size 32768, period size 8192 bytes\n",
      "Playing ChromaMIDIs/reconstruction35.mid\n",
      "MIDI file: ChromaMIDIs/reconstruction35.mid\n",
      "Format: 1  Tracks: 1  Divisions: 960\n",
      "Sequence: Main Track\n",
      "^CTerminated sig=0x02\n",
      "\n"
     ]
    },
    {
     "data": {
      "image/png": "[encoded data removed]",
      "text/plain": [
       "<matplotlib.figure.Figure at 0x7f713097d1d0>"
      ]
     },
     "metadata": {},
     "output_type": "display_data"
    }
   ],
   "source": [
    "display_chroma(divide_pitches(reconstructions[7]), length=100)\n",
    "!timidity ChromaMIDIs/reconstruction35.mid"
   ]
  },
  {
   "cell_type": "code",
   "execution_count": 54,
   "metadata": {
    "collapsed": false
   },
   "outputs": [
    {
     "name": "stdout",
     "output_type": "stream",
     "text": [
      "Requested buffer size 32768, fragment size 8192\n",
      "ALSA pcm 'default' set buffer size 32768, period size 8192 bytes\n",
      "Playing ChromaMIDIs/reconstruction40.mid\n",
      "MIDI file: ChromaMIDIs/reconstruction40.mid\n",
      "Format: 1  Tracks: 1  Divisions: 960\n",
      "Sequence: Main Track\n",
      "^CTerminated sig=0x02\n",
      "\n"
     ]
    },
    {
     "data": {
      "image/png": "[encoded data removed]",
      "text/plain": [
       "<matplotlib.figure.Figure at 0x7f7130fcee50>"
      ]
     },
     "metadata": {},
     "output_type": "display_data"
    }
   ],
   "source": [
    "display_chroma(divide_pitches(reconstructions[8]), length=100)\n",
    "!timidity ChromaMIDIs/reconstruction40.mid"
   ]
  },
  {
   "cell_type": "code",
   "execution_count": 55,
   "metadata": {
    "collapsed": false
   },
   "outputs": [
    {
     "name": "stdout",
     "output_type": "stream",
     "text": [
      "Requested buffer size 32768, fragment size 8192\n",
      "ALSA pcm 'default' set buffer size 32768, period size 8192 bytes\n",
      "Playing ChromaMIDIs/reconstruction45.mid\n",
      "MIDI file: ChromaMIDIs/reconstruction45.mid\n",
      "Format: 1  Tracks: 1  Divisions: 960\n",
      "Sequence: Main Track\n",
      "^CTerminated sig=0x02\n",
      "\n"
     ]
    },
    {
     "data": {
      "image/png": "[encoded data removed]",
      "text/plain": [
       "<matplotlib.figure.Figure at 0x7f71309aaa90>"
      ]
     },
     "metadata": {},
     "output_type": "display_data"
    }
   ],
   "source": [
    "display_chroma(divide_pitches(reconstructions[9]), length=100)\n",
    "!timidity ChromaMIDIs/reconstruction45.mid"
   ]
  },
  {
   "cell_type": "code",
   "execution_count": 41,
   "metadata": {
    "collapsed": false
   },
   "outputs": [
    {
     "name": "stdout",
     "output_type": "stream",
     "text": [
      "Requested buffer size 32768, fragment size 8192\n",
      "ALSA pcm 'default' set buffer size 32768, period size 8192 bytes\n",
      "Playing ChromaMIDIs/original.mid\n",
      "MIDI file: ChromaMIDIs/original.mid\n",
      "Format: 1  Tracks: 1  Divisions: 960\n",
      "Sequence: Main Track\n",
      "^CTerminated sig=0x02\n",
      "\n"
     ]
    },
    {
     "data": {
      "image/png": "[encoded data removed]",
      "text/plain": [
       "<matplotlib.figure.Figure at 0x7f7130faa790>"
      ]
     },
     "metadata": {},
     "output_type": "display_data"
    }
   ],
   "source": [
    "display_chroma(divide_pitches(specimen[1]), length=100)\n",
    "!timidity ChromaMIDIs/original.mid"
   ]
  },
  {
   "cell_type": "code",
   "execution_count": 57,
   "metadata": {
    "collapsed": false
   },
   "outputs": [],
   "source": [
    "#Maybe next step: Clean up chroma features; e.g all chroma features consist of mostly zeros and up to four ones\n",
    "def apply_threshold(pitches, num_to_keep):\n",
    "    pitches_divided = []\n",
    "    for i in range(len(pitches)/12):\n",
    "        pitches_divided.append(pitches[i*12:(i+1)*12])\n",
    "        \n",
    "    thresholded_pitches = []\n",
    "    for twelve in pitches_divided:\n",
    "        if(num_to_keep == 0):\n",
    "            indices_to_keep = []\n",
    "        else:\n",
    "            indices_to_keep = np.argsort(twelve)[-num_to_keep:]\n",
    "        thresholded_twelve = []\n",
    "        for i in range(12):\n",
    "            if(i in indices_to_keep):\n",
    "                thresholded_twelve.append(twelve[i])\n",
    "            else:\n",
    "                thresholded_twelve.append(0)\n",
    "        thresholded_pitches.append(thresholded_twelve)\n",
    "        \n",
    "    flat_thresh = [pitch for twelve in thresholded_pitches for pitch in twelve]\n",
    "       \n",
    "    return np.array(flat_thresh)"
   ]
  },
  {
   "cell_type": "code",
   "execution_count": 58,
   "metadata": {
    "collapsed": false
   },
   "outputs": [
    {
     "data": {
      "text/plain": [
       "array([0, 0, 0, 4, 5, 6, 7, 8, 9, 0, 0, 0, 0, 7, 0, 8, 0, 0, 4, 0, 0, 5, 7,\n",
       "       7])"
      ]
     },
     "execution_count": 58,
     "metadata": {},
     "output_type": "execute_result"
    }
   ],
   "source": [
    "apply_threshold([1,2,3,4,5,6,7,8,9,0,1,2,2,7,1,8,3,1,4,1,0,5,7,7],6)"
   ]
  },
  {
   "cell_type": "code",
   "execution_count": 59,
   "metadata": {
    "collapsed": false
   },
   "outputs": [
    {
     "name": "stdout",
     "output_type": "stream",
     "text": [
      "[ 0.814  1.     0.5    0.435  0.436  0.418  0.343  0.323  0.377  0.278\n",
      "  0.326  0.16   1.     0.416  0.168  0.181  0.2    0.205  0.352  0.307\n",
      "  0.121  0.094  0.474  0.066  1.     0.765  0.73   0.727  0.418  0.418\n",
      "  0.531  0.531  0.514  0.517  0.735  0.723  1.     0.725  0.565  0.58\n",
      "  0.496  0.476  0.563  0.558  0.652  0.647  0.495  0.069  1.     0.497\n",
      "  0.378  0.407  0.517  0.493  0.699  0.712  0.613  0.62   0.302  0.051  1.\n",
      "  0.692  0.25   0.166  0.186  0.103  0.115  0.092  0.079  0.056  0.087\n",
      "  0.389  1.     0.43   0.054  0.109  0.163  0.125  0.075  0.061  0.053\n",
      "  0.032  0.031  0.203  1.     0.801  0.118  0.144  0.143  0.095  0.071\n",
      "  0.172  0.111  0.045  0.051  0.131  1.     0.275  0.125  0.13   0.622\n",
      "  0.602  0.84   0.847  0.499  0.508  0.7    0.105]\n",
      "[ 0.814  1.     0.5    0.     0.436  0.     0.     0.     0.     0.     0.\n",
      "  0.     1.     0.416  0.     0.     0.     0.     0.352  0.     0.     0.\n",
      "  0.474  0.     1.     0.765  0.73   0.     0.     0.     0.     0.     0.\n",
      "  0.     0.735  0.     1.     0.725  0.     0.     0.     0.     0.     0.\n",
      "  0.652  0.647  0.     0.     1.     0.     0.     0.     0.     0.     0.699\n",
      "  0.712  0.     0.62   0.     0.     1.     0.692  0.25   0.     0.     0.\n",
      "  0.     0.     0.     0.     0.     0.389  1.     0.43   0.     0.     0.163\n",
      "  0.     0.     0.     0.     0.     0.     0.203  1.     0.801  0.     0.144\n",
      "  0.     0.     0.     0.172  0.     0.     0.     0.     1.     0.     0.\n",
      "  0.     0.     0.     0.84   0.847  0.     0.     0.7    0.   ]\n"
     ]
    }
   ],
   "source": [
    "print fullRDD.first()[1][:108]\n",
    "threshfullRDD = fullRDD.map(lambda (k, chroma): (k, apply_threshold(chroma, 4)))\n",
    "print threshfullRDD.first()[1][:108]"
   ]
  },
  {
   "cell_type": "code",
   "execution_count": 60,
   "metadata": {
    "collapsed": false
   },
   "outputs": [
    {
     "name": "stdout",
     "output_type": "stream",
     "text": [
      "321.406946898\n"
     ]
    }
   ],
   "source": [
    "threshfullRDD.cache()\n",
    "import time\n",
    "start = time.time()\n",
    "#top_components, song_scores, comp_eigvals = pca(fullRDD, k=3)\n",
    "top_components, song_scores, comp_eigvals = pca(threshfullRDD, k=50)\n",
    "print time.time() - start"
   ]
  },
  {
   "cell_type": "code",
   "execution_count": 61,
   "metadata": {
    "collapsed": false
   },
   "outputs": [
    {
     "name": "stdout",
     "output_type": "stream",
     "text": [
      "0.0\n",
      "0.0319432294059\n",
      "0.0594799384688\n",
      "0.0822300105284\n",
      "0.101178539483\n",
      "0.115070470884\n",
      "0.127947423953\n",
      "0.13925912402\n",
      "0.148977755762\n",
      "0.155440080656\n",
      "0.160726791744\n",
      "0.165913458887\n",
      "0.170807112274\n",
      "0.175409543365\n",
      "0.179901077809\n",
      "0.184233766595\n",
      "0.188270308756\n",
      "0.192107703514\n",
      "0.19547441621\n",
      "0.198801056678\n",
      "0.202060179261\n",
      "0.205239802716\n",
      "0.208340400012\n",
      "0.211391643266\n",
      "0.214397202285\n",
      "0.217331429905\n",
      "0.220207192701\n",
      "0.223015396007\n",
      "0.225810929759\n",
      "0.228557210491\n",
      "0.231240617084\n",
      "0.233904605596\n",
      "0.23652481332\n",
      "0.239099099086\n",
      "0.24165837845\n",
      "0.244183309516\n",
      "0.246671803686\n",
      "0.249135084134\n",
      "0.251573838544\n",
      "0.25400736507\n",
      "0.256422008991\n",
      "0.258805350897\n",
      "0.261173682913\n",
      "0.263494537138\n",
      "0.265782388317\n",
      "0.268050956599\n",
      "0.27029916086\n",
      "0.272531544173\n",
      "0.274738616251\n",
      "0.276926857534\n"
     ]
    }
   ],
   "source": [
    "#Amount, out of 1, of variance explained\n",
    "for i in range(50):\n",
    "    print sum(comp_eigvals[:i])/sum(comp_eigvals)"
   ]
  },
  {
   "cell_type": "code",
   "execution_count": null,
   "metadata": {
    "collapsed": true
   },
   "outputs": [],
   "source": [
    "#Maybe an autoencoder would do better"
   ]
  }
 ],
 "metadata": {
  "kernelspec": {
   "display_name": "Python 2",
   "language": "python",
   "name": "python2"
  },
  "language_info": {
   "codemirror_mode": {
    "name": "ipython",
    "version": 2
   },
   "file_extension": ".py",
   "mimetype": "text/x-python",
   "name": "python",
   "nbconvert_exporter": "python",
   "pygments_lexer": "ipython2",
   "version": "2.7.6"
  }
 },
 "nbformat": 4,
 "nbformat_minor": 0
}
